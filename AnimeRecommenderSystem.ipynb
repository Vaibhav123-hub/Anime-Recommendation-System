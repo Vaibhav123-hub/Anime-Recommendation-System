{
 "cells": [
  {
   "cell_type": "code",
   "execution_count": 1,
   "id": "95d419ae",
   "metadata": {},
   "outputs": [],
   "source": [
    "import numpy as np\n",
    "import pandas as pd\n"
   ]
  },
  {
   "cell_type": "code",
   "execution_count": 2,
   "id": "2c416140",
   "metadata": {},
   "outputs": [],
   "source": [
    "anime = pd.read_csv('datasets_anime/animes.csv')"
   ]
  },
  {
   "cell_type": "code",
   "execution_count": 60,
   "id": "05f7cca7",
   "metadata": {},
   "outputs": [],
   "source": [
    "temp = pd.read_csv('datasets_anime/animes.csv')"
   ]
  },
  {
   "cell_type": "code",
   "execution_count": 63,
   "id": "e0936648",
   "metadata": {},
   "outputs": [],
   "source": [
    "temp = temp.head(6000)"
   ]
  },
  {
   "cell_type": "code",
   "execution_count": 64,
   "id": "e86812b7",
   "metadata": {},
   "outputs": [],
   "source": [
    "temp = temp.drop(columns=['title','img_url'])"
   ]
  },
  {
   "cell_type": "code",
   "execution_count": 38,
   "id": "fa1fa344",
   "metadata": {},
   "outputs": [],
   "source": [
    "anime = anime.head(6000)"
   ]
  },
  {
   "cell_type": "code",
   "execution_count": 39,
   "id": "6c751340",
   "metadata": {},
   "outputs": [
    {
     "data": {
      "text/plain": [
       "(6000, 4)"
      ]
     },
     "execution_count": 39,
     "metadata": {},
     "output_type": "execute_result"
    }
   ],
   "source": [
    "anime.shape"
   ]
  },
  {
   "cell_type": "code",
   "execution_count": 5,
   "id": "1a10a7f4",
   "metadata": {},
   "outputs": [
    {
     "name": "stdout",
     "output_type": "stream",
     "text": [
      "<class 'pandas.core.frame.DataFrame'>\n",
      "RangeIndex: 19311 entries, 0 to 19310\n",
      "Data columns (total 12 columns):\n",
      " #   Column      Non-Null Count  Dtype  \n",
      "---  ------      --------------  -----  \n",
      " 0   uid         19311 non-null  int64  \n",
      " 1   title       19311 non-null  object \n",
      " 2   synopsis    18336 non-null  object \n",
      " 3   genre       19311 non-null  object \n",
      " 4   aired       19311 non-null  object \n",
      " 5   episodes    18605 non-null  float64\n",
      " 6   members     19311 non-null  int64  \n",
      " 7   popularity  19311 non-null  int64  \n",
      " 8   ranked      16099 non-null  float64\n",
      " 9   score       18732 non-null  float64\n",
      " 10  img_url     19131 non-null  object \n",
      " 11  link        19311 non-null  object \n",
      "dtypes: float64(3), int64(3), object(6)\n",
      "memory usage: 1.8+ MB\n"
     ]
    }
   ],
   "source": [
    "#genres\n",
    "#id\n",
    "#synopsis\n",
    "#title\n",
    "#img_url\n",
    "anime.info()"
   ]
  },
  {
   "cell_type": "code",
   "execution_count": 6,
   "id": "a39fdbf6",
   "metadata": {},
   "outputs": [
    {
     "data": {
      "text/plain": [
       "uid              0\n",
       "title            0\n",
       "synopsis       975\n",
       "genre            0\n",
       "aired            0\n",
       "episodes       706\n",
       "members          0\n",
       "popularity       0\n",
       "ranked        3212\n",
       "score          579\n",
       "img_url        180\n",
       "link             0\n",
       "dtype: int64"
      ]
     },
     "execution_count": 6,
     "metadata": {},
     "output_type": "execute_result"
    }
   ],
   "source": [
    "anime.isnull().sum()"
   ]
  },
  {
   "cell_type": "code",
   "execution_count": 7,
   "id": "24205f50",
   "metadata": {},
   "outputs": [],
   "source": [
    "anime = anime[['uid','title','genre','img_url']]"
   ]
  },
  {
   "cell_type": "code",
   "execution_count": 8,
   "id": "6d783ab2",
   "metadata": {},
   "outputs": [],
   "source": [
    "anime.dropna(inplace=True)"
   ]
  },
  {
   "cell_type": "code",
   "execution_count": 9,
   "id": "dd8f68cb",
   "metadata": {},
   "outputs": [
    {
     "data": {
      "text/plain": [
       "3080"
      ]
     },
     "execution_count": 9,
     "metadata": {},
     "output_type": "execute_result"
    }
   ],
   "source": [
    "anime.duplicated().sum()"
   ]
  },
  {
   "cell_type": "code",
   "execution_count": 10,
   "id": "007bed12",
   "metadata": {},
   "outputs": [],
   "source": [
    "anime.drop_duplicates(inplace=True)"
   ]
  },
  {
   "cell_type": "code",
   "execution_count": 11,
   "id": "3dc960f9",
   "metadata": {},
   "outputs": [
    {
     "data": {
      "text/plain": [
       "(16051, 4)"
      ]
     },
     "execution_count": 11,
     "metadata": {},
     "output_type": "execute_result"
    }
   ],
   "source": [
    "anime.shape"
   ]
  },
  {
   "cell_type": "code",
   "execution_count": 66,
   "id": "2281e07d",
   "metadata": {},
   "outputs": [
    {
     "data": {
      "text/html": [
       "<div>\n",
       "<style scoped>\n",
       "    .dataframe tbody tr th:only-of-type {\n",
       "        vertical-align: middle;\n",
       "    }\n",
       "\n",
       "    .dataframe tbody tr th {\n",
       "        vertical-align: top;\n",
       "    }\n",
       "\n",
       "    .dataframe thead th {\n",
       "        text-align: right;\n",
       "    }\n",
       "</style>\n",
       "<table border=\"1\" class=\"dataframe\">\n",
       "  <thead>\n",
       "    <tr style=\"text-align: right;\">\n",
       "      <th></th>\n",
       "      <th>uid</th>\n",
       "      <th>synopsis</th>\n",
       "      <th>genre</th>\n",
       "      <th>aired</th>\n",
       "      <th>episodes</th>\n",
       "      <th>members</th>\n",
       "      <th>popularity</th>\n",
       "      <th>ranked</th>\n",
       "      <th>score</th>\n",
       "      <th>link</th>\n",
       "    </tr>\n",
       "  </thead>\n",
       "  <tbody>\n",
       "    <tr>\n",
       "      <th>0</th>\n",
       "      <td>28891</td>\n",
       "      <td>Following their participation at the Inter-Hig...</td>\n",
       "      <td>['Comedy', 'Sports', 'Drama', 'School', 'Shoun...</td>\n",
       "      <td>Oct 4, 2015 to Mar 27, 2016</td>\n",
       "      <td>25.0</td>\n",
       "      <td>489888</td>\n",
       "      <td>141</td>\n",
       "      <td>25.0</td>\n",
       "      <td>8.82</td>\n",
       "      <td>https://myanimelist.net/anime/28891/Haikyuu_Se...</td>\n",
       "    </tr>\n",
       "  </tbody>\n",
       "</table>\n",
       "</div>"
      ],
      "text/plain": [
       "     uid                                           synopsis  \\\n",
       "0  28891  Following their participation at the Inter-Hig...   \n",
       "\n",
       "                                               genre  \\\n",
       "0  ['Comedy', 'Sports', 'Drama', 'School', 'Shoun...   \n",
       "\n",
       "                         aired  episodes  members  popularity  ranked  score  \\\n",
       "0  Oct 4, 2015 to Mar 27, 2016      25.0   489888         141    25.0   8.82   \n",
       "\n",
       "                                                link  \n",
       "0  https://myanimelist.net/anime/28891/Haikyuu_Se...  "
      ]
     },
     "execution_count": 66,
     "metadata": {},
     "output_type": "execute_result"
    }
   ],
   "source": [
    "temp.head(1)"
   ]
  },
  {
   "cell_type": "code",
   "execution_count": 13,
   "id": "f2d19115",
   "metadata": {},
   "outputs": [
    {
     "data": {
      "text/plain": [
       "\"['Comedy', 'Sports', 'Drama', 'School', 'Shounen']\""
      ]
     },
     "execution_count": 13,
     "metadata": {},
     "output_type": "execute_result"
    }
   ],
   "source": [
    "anime['genre'][0]"
   ]
  },
  {
   "cell_type": "code",
   "execution_count": 14,
   "id": "0a9b4b4a",
   "metadata": {},
   "outputs": [],
   "source": [
    "anime['genre'] = anime['genre'].apply(lambda x:x.lower())"
   ]
  },
  {
   "cell_type": "code",
   "execution_count": 15,
   "id": "6ca4c690",
   "metadata": {},
   "outputs": [],
   "source": [
    "anime['genre'] = anime['genre'].str.replace(\"'\",\"\")"
   ]
  },
  {
   "cell_type": "code",
   "execution_count": 16,
   "id": "d886a3f5",
   "metadata": {},
   "outputs": [
    {
     "data": {
      "text/plain": [
       "0                     [comedy,sports,drama,school,shounen]\n",
       "1                     [drama,music,romance,school,shounen]\n",
       "2                 [sci-fi,adventure,mystery,drama,fantasy]\n",
       "3        [action,military,adventure,comedy,drama,magic,...\n",
       "4                    [action,mystery,supernatural,vampire]\n",
       "                               ...                        \n",
       "19002       [action,comedy,superpower,martialarts,shounen]\n",
       "19003                    [sliceoflife,comedy,supernatural]\n",
       "19004                         [sliceoflife,comedy,shounen]\n",
       "19005                                             [action]\n",
       "19006            [comedy,drama,romance,school,sliceoflife]\n",
       "Name: genre, Length: 16051, dtype: object"
      ]
     },
     "execution_count": 16,
     "metadata": {},
     "output_type": "execute_result"
    }
   ],
   "source": [
    "anime['genre'].str.replace(\" \",\"\")"
   ]
  },
  {
   "cell_type": "code",
   "execution_count": 17,
   "id": "8d6119cd",
   "metadata": {},
   "outputs": [
    {
     "data": {
      "text/html": [
       "<div>\n",
       "<style scoped>\n",
       "    .dataframe tbody tr th:only-of-type {\n",
       "        vertical-align: middle;\n",
       "    }\n",
       "\n",
       "    .dataframe tbody tr th {\n",
       "        vertical-align: top;\n",
       "    }\n",
       "\n",
       "    .dataframe thead th {\n",
       "        text-align: right;\n",
       "    }\n",
       "</style>\n",
       "<table border=\"1\" class=\"dataframe\">\n",
       "  <thead>\n",
       "    <tr style=\"text-align: right;\">\n",
       "      <th></th>\n",
       "      <th>uid</th>\n",
       "      <th>title</th>\n",
       "      <th>genre</th>\n",
       "      <th>img_url</th>\n",
       "    </tr>\n",
       "  </thead>\n",
       "  <tbody>\n",
       "    <tr>\n",
       "      <th>0</th>\n",
       "      <td>28891</td>\n",
       "      <td>Haikyuu!! Second Season</td>\n",
       "      <td>[comedy, sports, drama, school, shounen]</td>\n",
       "      <td>https://cdn.myanimelist.net/images/anime/9/766...</td>\n",
       "    </tr>\n",
       "    <tr>\n",
       "      <th>1</th>\n",
       "      <td>23273</td>\n",
       "      <td>Shigatsu wa Kimi no Uso</td>\n",
       "      <td>[drama, music, romance, school, shounen]</td>\n",
       "      <td>https://cdn.myanimelist.net/images/anime/3/671...</td>\n",
       "    </tr>\n",
       "    <tr>\n",
       "      <th>2</th>\n",
       "      <td>34599</td>\n",
       "      <td>Made in Abyss</td>\n",
       "      <td>[sci-fi, adventure, mystery, drama, fantasy]</td>\n",
       "      <td>https://cdn.myanimelist.net/images/anime/6/867...</td>\n",
       "    </tr>\n",
       "    <tr>\n",
       "      <th>3</th>\n",
       "      <td>5114</td>\n",
       "      <td>Fullmetal Alchemist: Brotherhood</td>\n",
       "      <td>[action, military, adventure, comedy, drama, m...</td>\n",
       "      <td>https://cdn.myanimelist.net/images/anime/1223/...</td>\n",
       "    </tr>\n",
       "    <tr>\n",
       "      <th>4</th>\n",
       "      <td>31758</td>\n",
       "      <td>Kizumonogatari III: Reiketsu-hen</td>\n",
       "      <td>[action, mystery, supernatural, vampire]</td>\n",
       "      <td>https://cdn.myanimelist.net/images/anime/3/815...</td>\n",
       "    </tr>\n",
       "  </tbody>\n",
       "</table>\n",
       "</div>"
      ],
      "text/plain": [
       "     uid                             title  \\\n",
       "0  28891           Haikyuu!! Second Season   \n",
       "1  23273           Shigatsu wa Kimi no Uso   \n",
       "2  34599                     Made in Abyss   \n",
       "3   5114  Fullmetal Alchemist: Brotherhood   \n",
       "4  31758  Kizumonogatari III: Reiketsu-hen   \n",
       "\n",
       "                                               genre  \\\n",
       "0           [comedy, sports, drama, school, shounen]   \n",
       "1           [drama, music, romance, school, shounen]   \n",
       "2       [sci-fi, adventure, mystery, drama, fantasy]   \n",
       "3  [action, military, adventure, comedy, drama, m...   \n",
       "4           [action, mystery, supernatural, vampire]   \n",
       "\n",
       "                                             img_url  \n",
       "0  https://cdn.myanimelist.net/images/anime/9/766...  \n",
       "1  https://cdn.myanimelist.net/images/anime/3/671...  \n",
       "2  https://cdn.myanimelist.net/images/anime/6/867...  \n",
       "3  https://cdn.myanimelist.net/images/anime/1223/...  \n",
       "4  https://cdn.myanimelist.net/images/anime/3/815...  "
      ]
     },
     "execution_count": 17,
     "metadata": {},
     "output_type": "execute_result"
    }
   ],
   "source": [
    "anime.head()"
   ]
  },
  {
   "cell_type": "code",
   "execution_count": 40,
   "id": "e9a68eee",
   "metadata": {},
   "outputs": [],
   "source": [
    "from sklearn.feature_extraction.text import CountVectorizer\n",
    "cv = CountVectorizer(max_features=5000,stop_words='english')"
   ]
  },
  {
   "cell_type": "code",
   "execution_count": 41,
   "id": "9c7d3a7b",
   "metadata": {},
   "outputs": [],
   "source": [
    "vectors = cv.fit_transform(anime['genre']).toarray()"
   ]
  },
  {
   "cell_type": "code",
   "execution_count": 42,
   "id": "2f884054",
   "metadata": {},
   "outputs": [
    {
     "data": {
      "text/plain": [
       "array([[0, 0, 0, ..., 0, 0, 0],\n",
       "       [0, 0, 0, ..., 0, 0, 0],\n",
       "       [0, 1, 0, ..., 0, 0, 0],\n",
       "       ...,\n",
       "       [0, 0, 0, ..., 0, 0, 0],\n",
       "       [1, 1, 0, ..., 0, 0, 0],\n",
       "       [0, 0, 1, ..., 0, 0, 0]], dtype=int64)"
      ]
     },
     "execution_count": 42,
     "metadata": {},
     "output_type": "execute_result"
    }
   ],
   "source": [
    "vectors"
   ]
  },
  {
   "cell_type": "code",
   "execution_count": 43,
   "id": "0adf3bbb",
   "metadata": {},
   "outputs": [
    {
     "data": {
      "text/plain": [
       "array([0, 0, 0, 0, 0, 1, 0, 0, 1, 0, 0, 0, 0, 0, 0, 0, 0, 0, 0, 0, 0, 0,\n",
       "       0, 0, 0, 0, 0, 0, 0, 0, 0, 0, 1, 0, 0, 0, 1, 0, 0, 1, 0, 0, 0, 0,\n",
       "       0, 0], dtype=int64)"
      ]
     },
     "execution_count": 43,
     "metadata": {},
     "output_type": "execute_result"
    }
   ],
   "source": [
    "vectors[0]"
   ]
  },
  {
   "cell_type": "code",
   "execution_count": 44,
   "id": "a54238cc",
   "metadata": {},
   "outputs": [
    {
     "data": {
      "text/plain": [
       "array(['action', 'adventure', 'ai', 'arts', 'cars', 'comedy', 'dementia',\n",
       "       'demons', 'drama', 'ecchi', 'fantasy', 'fi', 'game', 'harem',\n",
       "       'hentai', 'historical', 'horror', 'josei', 'kids', 'life', 'magic',\n",
       "       'martial', 'mecha', 'military', 'music', 'mystery', 'parody',\n",
       "       'police', 'power', 'psychological', 'romance', 'samurai', 'school',\n",
       "       'sci', 'seinen', 'shoujo', 'shounen', 'slice', 'space', 'sports',\n",
       "       'super', 'supernatural', 'thriller', 'vampire', 'yaoi', 'yuri'],\n",
       "      dtype=object)"
      ]
     },
     "execution_count": 44,
     "metadata": {},
     "output_type": "execute_result"
    }
   ],
   "source": [
    "cv.get_feature_names_out()"
   ]
  },
  {
   "cell_type": "code",
   "execution_count": 45,
   "id": "1f26293a",
   "metadata": {},
   "outputs": [],
   "source": [
    "import nltk"
   ]
  },
  {
   "cell_type": "code",
   "execution_count": 46,
   "id": "a54bf8db",
   "metadata": {},
   "outputs": [],
   "source": [
    "from nltk.stem.porter import PorterStemmer\n",
    "ps= PorterStemmer()"
   ]
  },
  {
   "cell_type": "code",
   "execution_count": 47,
   "id": "602cf499",
   "metadata": {},
   "outputs": [],
   "source": [
    "def stem(text):\n",
    "    y=[]\n",
    "    \n",
    "    for i in text.split():\n",
    "        y.append(ps.stem(i))\n",
    "        \n",
    "    return \" \".join(y)"
   ]
  },
  {
   "cell_type": "code",
   "execution_count": 48,
   "id": "6ba18eeb",
   "metadata": {},
   "outputs": [],
   "source": [
    "anime['genre'] = anime['genre'].apply(stem)"
   ]
  },
  {
   "cell_type": "code",
   "execution_count": 49,
   "id": "210cbc68",
   "metadata": {},
   "outputs": [],
   "source": [
    "from sklearn.metrics.pairwise import cosine_similarity"
   ]
  },
  {
   "cell_type": "code",
   "execution_count": 50,
   "id": "f7d9da65",
   "metadata": {},
   "outputs": [],
   "source": [
    "similarity = cosine_similarity(vectors)"
   ]
  },
  {
   "cell_type": "code",
   "execution_count": 51,
   "id": "d867fc2a",
   "metadata": {},
   "outputs": [
    {
     "data": {
      "text/plain": [
       "array([1.        , 0.6       , 0.18257419, ..., 0.31622777, 0.14142136,\n",
       "       0.2       ])"
      ]
     },
     "execution_count": 51,
     "metadata": {},
     "output_type": "execute_result"
    }
   ],
   "source": [
    "similarity[0]"
   ]
  },
  {
   "cell_type": "code",
   "execution_count": 52,
   "id": "8b6d7abf",
   "metadata": {},
   "outputs": [
    {
     "data": {
      "text/plain": [
       "[(10, 0.9999999999999999),\n",
       " (30, 0.9999999999999999),\n",
       " (86, 0.9999999999999999),\n",
       " (134, 0.9999999999999999),\n",
       " (163, 0.9999999999999999)]"
      ]
     },
     "execution_count": 52,
     "metadata": {},
     "output_type": "execute_result"
    }
   ],
   "source": [
    "sorted(list(enumerate(similarity[0])),reverse=True,key=lambda x:x[1])[1:6]"
   ]
  },
  {
   "cell_type": "code",
   "execution_count": 53,
   "id": "48bec5e7",
   "metadata": {},
   "outputs": [],
   "source": [
    "def recommend(animes):\n",
    "    anime_index = anime[anime['title'] == animes].index[0]\n",
    "    distances = similarity[anime_index]\n",
    "    anime_list = sorted(list(enumerate(distances)),reverse=True,key=lambda x:x[1])[1:6]\n",
    "    \n",
    "    for i in anime_list:\n",
    "        print(anime.iloc[i[0]].title)"
   ]
  },
  {
   "cell_type": "code",
   "execution_count": 54,
   "id": "620378e3",
   "metadata": {},
   "outputs": [
    {
     "name": "stdout",
     "output_type": "stream",
     "text": [
      "Naruto: Shippuuden\n",
      "Dragon Ball Super Movie: Broly\n",
      "Dragon Ball Z\n",
      "Dragon Ball Kai\n",
      "Dragon Ball Kai (2014)\n"
     ]
    }
   ],
   "source": [
    "recommend('Naruto')"
   ]
  },
  {
   "cell_type": "code",
   "execution_count": 55,
   "id": "9d5a4c6b",
   "metadata": {},
   "outputs": [],
   "source": [
    "import pickle"
   ]
  },
  {
   "cell_type": "code",
   "execution_count": 56,
   "id": "c585e8d1",
   "metadata": {},
   "outputs": [],
   "source": [
    "pickle.dump(anime,open('animes.pkl','wb'))"
   ]
  },
  {
   "cell_type": "code",
   "execution_count": 57,
   "id": "2c2ac577",
   "metadata": {},
   "outputs": [],
   "source": [
    "pickle.dump(anime.to_dict(),open('anime_dict.pkl','wb'))"
   ]
  },
  {
   "cell_type": "code",
   "execution_count": 58,
   "id": "8720168e",
   "metadata": {},
   "outputs": [],
   "source": [
    "pickle.dump(similarity,open('similarity.pkl','wb'))"
   ]
  },
  {
   "cell_type": "code",
   "execution_count": 59,
   "id": "c7712cd0",
   "metadata": {},
   "outputs": [
    {
     "data": {
      "text/plain": [
       "0       https://cdn.myanimelist.net/images/anime/9/766...\n",
       "1       https://cdn.myanimelist.net/images/anime/3/671...\n",
       "2       https://cdn.myanimelist.net/images/anime/6/867...\n",
       "3       https://cdn.myanimelist.net/images/anime/1223/...\n",
       "4       https://cdn.myanimelist.net/images/anime/3/815...\n",
       "                              ...                        \n",
       "6427    https://cdn.myanimelist.net/images/anime/5/180...\n",
       "6428    https://cdn.myanimelist.net/images/anime/1593/...\n",
       "6429    https://cdn.myanimelist.net/images/anime/2/659...\n",
       "6430    https://cdn.myanimelist.net/images/anime/12/85...\n",
       "6431    https://cdn.myanimelist.net/images/anime/10/35...\n",
       "Name: img_url, Length: 6000, dtype: object"
      ]
     },
     "execution_count": 59,
     "metadata": {},
     "output_type": "execute_result"
    }
   ],
   "source": [
    "anime['img_url']"
   ]
  },
  {
   "cell_type": "code",
   "execution_count": 65,
   "id": "179c91b3",
   "metadata": {},
   "outputs": [],
   "source": [
    "pickle.dump(temp.to_dict(),open('temp_dict.pkl','wb'))"
   ]
  },
  {
   "cell_type": "code",
   "execution_count": null,
   "id": "5771ee73",
   "metadata": {},
   "outputs": [],
   "source": []
  }
 ],
 "metadata": {
  "kernelspec": {
   "display_name": "Python 3 (ipykernel)",
   "language": "python",
   "name": "python3"
  },
  "language_info": {
   "codemirror_mode": {
    "name": "ipython",
    "version": 3
   },
   "file_extension": ".py",
   "mimetype": "text/x-python",
   "name": "python",
   "nbconvert_exporter": "python",
   "pygments_lexer": "ipython3",
   "version": "3.9.12"
  }
 },
 "nbformat": 4,
 "nbformat_minor": 5
}
